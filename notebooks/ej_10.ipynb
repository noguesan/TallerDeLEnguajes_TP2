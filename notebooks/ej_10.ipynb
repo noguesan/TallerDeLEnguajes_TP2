{
 "cells": [
  {
   "cell_type": "code",
   "execution_count": null,
   "metadata": {},
   "outputs": [
    {
     "ename": "ModuleNotFoundError",
     "evalue": "No module named 'src'",
     "output_type": "error",
     "traceback": [
      "\u001b[31m---------------------------------------------------------------------------\u001b[39m",
      "\u001b[31mModuleNotFoundError\u001b[39m                       Traceback (most recent call last)",
      "\u001b[36mCell\u001b[39m\u001b[36m \u001b[39m\u001b[32mIn[4]\u001b[39m\u001b[32m, line 1\u001b[39m\n\u001b[32m----> \u001b[39m\u001b[32m1\u001b[39m \u001b[38;5;28;01mfrom\u001b[39;00m\u001b[38;5;250m \u001b[39m\u001b[34;01msrc\u001b[39;00m\u001b[34;01m.\u001b[39;00m\u001b[34;01mfunciones\u001b[39;00m\u001b[38;5;250m \u001b[39m\u001b[38;5;28;01mimport\u001b[39;00m actualizar_estadisticas, mostrar_ranking\n\u001b[32m      3\u001b[39m \u001b[38;5;66;03m# Simulación de las rondas\u001b[39;00m\n\u001b[32m      4\u001b[39m \u001b[38;5;28;01mfor\u001b[39;00m round_num, round_data \u001b[38;5;129;01min\u001b[39;00m \u001b[38;5;28menumerate\u001b[39m(rounds, \u001b[32m1\u001b[39m):\n\u001b[32m      5\u001b[39m     \u001b[38;5;66;03m# round_num recibe el número de la ronda (1, 2, 3, …).\u001b[39;00m\n\u001b[32m      6\u001b[39m     \u001b[38;5;66;03m# round_data recibe el diccionario con las estadísticas de los jugadores en esa ronda.\u001b[39;00m\n",
      "\u001b[31mModuleNotFoundError\u001b[39m: No module named 'src'"
     ]
    }
   ],
   "source": [
    "import sys\n",
    "import os\n",
    "\n",
    "sys.path.append(os.path.abspath(\"../src\"))\n",
    "\n",
    "from funciones import actualizar_estadisticas, mostrar_ranking\n",
    "\n",
    "# Simulación de las rondas\n",
    "for round_num, round_data in enumerate(rounds, 1):\n",
    "    # round_num recibe el número de la ronda (1, 2, 3, …).\n",
    "    # round_data recibe el diccionario con las estadísticas de los jugadores en esa ronda.\n",
    "    print(f\"\\nRonda {round_num}:\")\n",
    "    mvp = actualizar_estadisticas(round_data)\n",
    "\n",
    "# Mostrar el ranking final con valores acumulados\n",
    "print(\"_\" * 100)\n",
    "mostrar_ranking(jugadores, \"Ranking final\")"
   ]
  }
 ],
 "metadata": {
  "kernelspec": {
   "display_name": "Python 3",
   "language": "python",
   "name": "python3"
  },
  "language_info": {
   "codemirror_mode": {
    "name": "ipython",
    "version": 3
   },
   "file_extension": ".py",
   "mimetype": "text/x-python",
   "name": "python",
   "nbconvert_exporter": "python",
   "pygments_lexer": "ipython3",
   "version": "3.13.2"
  }
 },
 "nbformat": 4,
 "nbformat_minor": 2
}
